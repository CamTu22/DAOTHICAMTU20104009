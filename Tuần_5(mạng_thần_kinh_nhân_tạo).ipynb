{
  "nbformat": 4,
  "nbformat_minor": 0,
  "metadata": {
    "colab": {
      "provenance": [],
      "authorship_tag": "ABX9TyOWOntTJ36dZW5NrrAbVFV4",
      "include_colab_link": true
    },
    "kernelspec": {
      "name": "python3",
      "display_name": "Python 3"
    },
    "language_info": {
      "name": "python"
    }
  },
  "cells": [
    {
      "cell_type": "markdown",
      "metadata": {
        "id": "view-in-github",
        "colab_type": "text"
      },
      "source": [
        "<a href=\"https://colab.research.google.com/github/CamTu22/DAOTHICAMTU_20104009/blob/main/Tu%E1%BA%A7n_5(m%E1%BA%A1ng_th%E1%BA%A7n_kinh_nh%C3%A2n_t%E1%BA%A1o).ipynb\" target=\"_parent\"><img src=\"https://colab.research.google.com/assets/colab-badge.svg\" alt=\"Open In Colab\"/></a>"
      ]
    },
    {
      "cell_type": "code",
      "execution_count": null,
      "metadata": {
        "colab": {
          "base_uri": "https://localhost:8080/"
        },
        "id": "_WvNZ7azuenm",
        "outputId": "489fbfa3-4e40-4b97-ff8e-1917149b7459"
      },
      "outputs": [
        {
          "output_type": "stream",
          "name": "stdout",
          "text": [
            "ĐỘ chính xác 1.0\n",
            "[0 1 0 1]\n"
          ]
        }
      ],
      "source": [
        "import numpy as np\n",
        "from sklearn.linear_model import Perceptron\n",
        "x = [[0,0],[1,0],[0,1],[1,1]]\n",
        "y = [0,1,1,1]\n",
        "model = Perceptron()\n",
        "model.fit(x,y)\n",
        "print('ĐỘ chính xác',model.score(x,y))\n",
        "x_test = [[0.5,0],[0.9,-0.2],[1,-0.5],[0.2,0.7]]\n",
        "y_test = model.predict(x_test)\n",
        "print(y_test)"
      ]
    },
    {
      "cell_type": "code",
      "source": [
        "import numpy as np\n",
        "from sklearn.linear_model import Perceptron\n",
        "x = [[-0.5,-0.5],[-0.5,-0.5],[0.3,-0.5],[-0.1,1]]\n",
        "y = [1,1,0,0]\n",
        "model = Perceptron()\n",
        "model.fit(x,y)\n",
        "print('ĐỘ chính xác',model.score(x,y))\n",
        "x_test = [[0.5,0],[0.9,-0.2],[1,-0.5],[0.2,0.7]]\n",
        "y_test = model.predict(x_test)\n",
        "print(y_test)"
      ],
      "metadata": {
        "id": "ODj79ior1jDZ"
      },
      "execution_count": null,
      "outputs": []
    },
    {
      "cell_type": "code",
      "source": [
        "import pandas as pd\n",
        "import numpy as np\n",
        "from sklearn.linear_model import Perceptron\n",
        "from sklearn.model_selection import train_test_split\n",
        "data = pd.read_csv('crabs.csv')\n",
        "data['sex'].replace(['F','M'],[0,1],inplace=True)\n",
        "x = data.drop(['speies','sex','index'], axis = True)\n",
        "y = data['sex']\n",
        "x_train, x_test, y_train, y_test = train_test_split(x,y,test_size = 0.5)\n",
        "model = Perceptron()\n",
        "model.fit(x_train,y_train)\n",
        "print('Độ chính xác',model.score(x,y))\n",
        "x_test = [[8,4,15,20,9],[10,15,30,45,10]]\n",
        "y_test = model.predict(x_test)\n",
        "print(y_test)"
      ],
      "metadata": {
        "colab": {
          "base_uri": "https://localhost:8080/"
        },
        "id": "02l75gw63R_V",
        "outputId": "701782b7-5fe1-4cfe-803a-32c7be9511fc"
      },
      "execution_count": null,
      "outputs": [
        {
          "output_type": "stream",
          "name": "stdout",
          "text": [
            "Độ chính xác 0.795\n",
            "[1 0]\n"
          ]
        },
        {
          "output_type": "stream",
          "name": "stderr",
          "text": [
            "/usr/local/lib/python3.7/dist-packages/sklearn/base.py:451: UserWarning: X does not have valid feature names, but Perceptron was fitted with feature names\n",
            "  \"X does not have valid feature names, but\"\n"
          ]
        }
      ]
    },
    {
      "cell_type": "code",
      "source": [
        "import pandas as pd\n",
        "import numpy as np\n",
        "from sklearn.linear_model import Perceptron\n",
        "from sklearn.model_selection import train_test_split\n",
        "from sklearn.datasets import load_iris\n",
        "iris = load_iris()\n",
        "#print (iris)\n",
        "for n, i in enumerate(iris.target):\n",
        "  if i == 2:\n",
        "    iris.target[n] = 1\n",
        "x = iris.data\n",
        "y = iris.target\n",
        "x_train, x_test, y_train, y_test = train_test_split(x,y,test_size = 0.5)\n",
        "model = Perceptron()\n",
        "model.fit(x_train,y_train)\n",
        "print('Độ chính xác',model.score(x_test,y_test))\n",
        "x_test = [[5,4,2,0.5],[4,4,3,0.2]]\n",
        "y_test = model.predict(x_test)\n",
        "print(y_test)"
      ],
      "metadata": {
        "colab": {
          "base_uri": "https://localhost:8080/"
        },
        "id": "mTJ2_OGeB9V4",
        "outputId": "f89a1ed2-4ba3-4d50-b145-c915e1c0bcfe"
      },
      "execution_count": null,
      "outputs": [
        {
          "output_type": "stream",
          "name": "stdout",
          "text": [
            "Độ chính xác 0.9866666666666667\n",
            "[0 0]\n"
          ]
        }
      ]
    }
  ]
}